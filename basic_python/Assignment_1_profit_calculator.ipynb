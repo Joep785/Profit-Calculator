{
  "cells": [
    {
      "cell_type": "markdown",
      "id": "a520eb55-7ae1-403d-b0d6-90c14d006007",
      "metadata": {
        "id": "a520eb55-7ae1-403d-b0d6-90c14d006007"
      },
      "source": [
        "* [Instructor Landing Page](landing_page.ipynb)\n",
        "* <a href=\"https://colab.research.google.com/github/4dsolutions/clarusway_data_analysis/blob/main/basic_python/Assignment_1_profit_calculator.ipynb\"><img align=\"left\" src=\"https://colab.research.google.com/assets/colab-badge.svg\" alt=\"Open in Colab\" title=\"Open and Execute in Google Colaboratory\"></a>\n",
        "* [![nbviewer](https://raw.githubusercontent.com/jupyter/design/master/logos/Badges/nbviewer_badge.svg)](https://nbviewer.org/github/4dsolutions/clarusway_data_analysis/blob/main/basic_python/Assignment_1_profit_calculator.ipynb)"
      ]
    },
    {
      "cell_type": "markdown",
      "id": "36e9c8df",
      "metadata": {
        "id": "36e9c8df"
      },
      "source": [
        "## <p style=\"background-color:#FDFEFE; font-family:newtimeroman; color:#9d4f8c; font-size:120%; text-align:center; border-radius:10px 10px;\">Way to Reinvent Yourself</p>"
      ]
    },
    {
      "cell_type": "markdown",
      "id": "a65ffe0a",
      "metadata": {
        "id": "a65ffe0a"
      },
      "source": [
        "<div class=\"alert alert-block alert-info\"><h1><p style=\"text-align: center; color:purple\">Assignment-1 (Profit Calculator)<br><br>Data Types and Usefull Operations </p>"
      ]
    },
    {
      "cell_type": "markdown",
      "id": "13eab24f",
      "metadata": {
        "id": "13eab24f"
      },
      "source": [
        "<div class=\"alert alert-block alert-info\">\n",
        "<font color=red>Task :</font> <font color=blue>If you had deposited a coin on the cryptocurrency exchange that brought 7% fixed profit daily for a week, how much would your $ 1000 reach at the end of the 7th day?</font>"
      ]
    },
    {
      "cell_type": "code",
      "execution_count": 1,
      "id": "38c14eb0",
      "metadata": {
        "id": "38c14eb0"
      },
      "outputs": [],
      "source": [
        "para = 1000"
      ]
    },
    {
      "cell_type": "code",
      "execution_count": 2,
      "id": "7561f947",
      "metadata": {
        "id": "7561f947",
        "outputId": "f0fa6496-1ad9-4658-c718-8e83123c58a7",
        "colab": {
          "base_uri": "https://localhost:8080/"
        }
      },
      "outputs": [
        {
          "output_type": "execute_result",
          "data": {
            "text/plain": [
              "1070.0"
            ]
          },
          "metadata": {},
          "execution_count": 2
        }
      ],
      "source": [
        "para = para + para * 0.07  # My amount of money at the end of Monday.\n",
        "\n",
        "para"
      ]
    },
    {
      "cell_type": "code",
      "execution_count": 3,
      "id": "32760e40",
      "metadata": {
        "id": "32760e40",
        "outputId": "438e5ebb-702a-4f80-bd78-db4f2de4c27b",
        "colab": {
          "base_uri": "https://localhost:8080/"
        }
      },
      "outputs": [
        {
          "output_type": "execute_result",
          "data": {
            "text/plain": [
              "1144.9"
            ]
          },
          "metadata": {},
          "execution_count": 3
        }
      ],
      "source": [
        "para = para + para * 0.07  # My amount of money at the end of Tuesday.\n",
        "\n",
        "para\n"
      ]
    },
    {
      "cell_type": "code",
      "execution_count": 4,
      "id": "296ef139",
      "metadata": {
        "id": "296ef139",
        "outputId": "b2e73bb8-f880-4d84-8a09-a609ef46d9c9",
        "colab": {
          "base_uri": "https://localhost:8080/"
        }
      },
      "outputs": [
        {
          "output_type": "execute_result",
          "data": {
            "text/plain": [
              "1225.0430000000001"
            ]
          },
          "metadata": {},
          "execution_count": 4
        }
      ],
      "source": [
        "para = para + para * 0.07  # My amount at the end of Wednesday.\n",
        "\n",
        "para"
      ]
    },
    {
      "cell_type": "code",
      "execution_count": 5,
      "id": "621cf147",
      "metadata": {
        "id": "621cf147",
        "outputId": "f437a30f-8eb2-465a-ac59-0f2dd0238f6e",
        "colab": {
          "base_uri": "https://localhost:8080/"
        }
      },
      "outputs": [
        {
          "output_type": "execute_result",
          "data": {
            "text/plain": [
              "1310.79601"
            ]
          },
          "metadata": {},
          "execution_count": 5
        }
      ],
      "source": [
        "para = para + para * 0.07  # My amount at the end of thursday.\n",
        "\n",
        "para"
      ]
    },
    {
      "cell_type": "code",
      "execution_count": 6,
      "id": "f7ad7180",
      "metadata": {
        "id": "f7ad7180",
        "outputId": "0ca8eeb4-fe00-448d-c93d-3b50fb1cfe83",
        "colab": {
          "base_uri": "https://localhost:8080/"
        }
      },
      "outputs": [
        {
          "output_type": "execute_result",
          "data": {
            "text/plain": [
              "1402.5517307"
            ]
          },
          "metadata": {},
          "execution_count": 6
        }
      ],
      "source": [
        "para = para + para * 0.07  # My amount of money at the end of Friday.\n",
        "\n",
        "para"
      ]
    },
    {
      "cell_type": "code",
      "execution_count": 7,
      "id": "cf411c27",
      "metadata": {
        "id": "cf411c27",
        "outputId": "2a550810-5279-4ce3-d9c6-8a0cfe872e74",
        "colab": {
          "base_uri": "https://localhost:8080/"
        }
      },
      "outputs": [
        {
          "output_type": "execute_result",
          "data": {
            "text/plain": [
              "1500.730351849"
            ]
          },
          "metadata": {},
          "execution_count": 7
        }
      ],
      "source": [
        "para = para + para * 0.07  # My amount of money at the end of Saturday.\n",
        "\n",
        "para"
      ]
    },
    {
      "cell_type": "code",
      "execution_count": 8,
      "id": "5410bf4e",
      "metadata": {
        "id": "5410bf4e",
        "outputId": "3e6ed085-fa59-4e5f-ecf0-5add40fe0cc2",
        "colab": {
          "base_uri": "https://localhost:8080/"
        }
      },
      "outputs": [
        {
          "output_type": "execute_result",
          "data": {
            "text/plain": [
              "1605.78147647843"
            ]
          },
          "metadata": {},
          "execution_count": 8
        }
      ],
      "source": [
        "para = para + para * 0.07  # My amount of money at the end of Sunday.\n",
        "\n",
        "para"
      ]
    },
    {
      "cell_type": "code",
      "execution_count": 9,
      "id": "2d0718b8",
      "metadata": {
        "id": "2d0718b8"
      },
      "outputs": [],
      "source": [
        "para = para * 1.07  # amount at the end of monday.\n",
        "para = para * 1.07  # amount at the end of tuesday.\n",
        "para = para * 1.07  # amount at the end of wednesday.\n",
        "para = para * 1.07  # amount at the end of thursday.\n",
        "para = para * 1.07  # amount at the end of friday.\n",
        "para = para * 1.07  # amount at the end of saturday.\n",
        "para = para * 1.07  # amount at the end of sunday."
      ]
    },
    {
      "cell_type": "code",
      "execution_count": 10,
      "id": "b1e1f0d4",
      "metadata": {
        "id": "b1e1f0d4"
      },
      "outputs": [],
      "source": [
        "para = para * 1.07  # monday\n",
        "para = para * 1.07 * 1.07  # tuesday\n",
        "para = para * 1.07 * 1.07 * 1.07  # wednesday\n",
        "para = para * 1.07 * 1.07 * 1.07 * 1.07  # thrusday\n",
        "para = para * 1.07 * 1.07 * 1.07 * 1.07 * 1.07  # friday\n",
        "para = para * 1.07 * 1.07 * 1.07 * 1.07 * 1.07 * 1.07  # saturday\n",
        "para = para * 1.07 * 1.07 * 1.07 * 1.07 * 1.07 * 1.07 * 1.07  # sunday"
      ]
    },
    {
      "cell_type": "code",
      "execution_count": 11,
      "id": "745ed635",
      "metadata": {
        "id": "745ed635"
      },
      "outputs": [],
      "source": [
        "para = 1000"
      ]
    },
    {
      "cell_type": "code",
      "execution_count": 12,
      "id": "4c6ea403",
      "metadata": {
        "id": "4c6ea403",
        "outputId": "1a197a8b-b52d-4caa-b35c-be7747c9fb6d",
        "colab": {
          "base_uri": "https://localhost:8080/"
        }
      },
      "outputs": [
        {
          "output_type": "execute_result",
          "data": {
            "text/plain": [
              "1605.7814764784307"
            ]
          },
          "metadata": {},
          "execution_count": 12
        }
      ],
      "source": [
        "para = para * 1.07 ** 7\n",
        "\n",
        "para"
      ]
    },
    {
      "cell_type": "code",
      "execution_count": 12,
      "id": "b67a2fc6",
      "metadata": {
        "id": "b67a2fc6"
      },
      "outputs": [],
      "source": []
    }
  ],
  "metadata": {
    "colab": {
      "provenance": []
    },
    "kernelspec": {
      "display_name": "Python 3 (ipykernel)",
      "language": "python",
      "name": "python3"
    },
    "language_info": {
      "codemirror_mode": {
        "name": "ipython",
        "version": 3
      },
      "file_extension": ".py",
      "mimetype": "text/x-python",
      "name": "python",
      "nbconvert_exporter": "python",
      "pygments_lexer": "ipython3",
      "version": "3.11.3"
    }
  },
  "nbformat": 4,
  "nbformat_minor": 5
}